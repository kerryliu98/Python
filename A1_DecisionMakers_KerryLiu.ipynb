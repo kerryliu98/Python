{
 "cells": [
  {
   "cell_type": "markdown",
   "metadata": {
    "colab_type": "text",
    "id": "Z7zvmrKedLgT"
   },
   "source": [
    "# Assignment 1: Algorithms as Decision Makers\n",
    "\n",
    "This notebook provides starter code and a template for formatting your work. \n",
    "\n",
    "Tasks 1-3 and 5 require textual answers. Markdown cells have been provided for these. I have left them in an editable state, but at any time you can format them by clicking on them and pressing <tt>shift+enter</tt>. Double clicking on the text will return it to the editable state. Running all cells will also format everything and run your code. This is what I'll be doing duringn grading so it really doesn't matter what state cells are in when you hand in your assignment. \n",
    "\n",
    "*Note that in Markdown starting a line with an * will create a bullet and indenting will create a sub bullet. A full list of formatting commands is available here: https://www.datacamp.com/community/tutorials/markdown-in-jupyter-notebook* \n",
    "\n",
    "Please rename this file, replacing <tt>YourName</tt> with your first and last name, and also write your name in the cell below: "
   ]
  },
  {
   "cell_type": "raw",
   "metadata": {},
   "source": [
    "Kerry Liu"
   ]
  },
  {
   "cell_type": "markdown",
   "metadata": {
    "colab_type": "text",
    "id": "xcLWlFGNdwns"
   },
   "source": [
    "***\n",
    "## Task 1: Assess User Needs\n"
   ]
  },
  {
   "cell_type": "markdown",
   "metadata": {},
   "source": [
    "**10 Factors that matter**\n",
    "1. Housing Type (Depending on Marriage or Parenthood)\n",
    "    - My research shows that many universities offer different types of housing for single students, students with a spouse, and students with children. Thus, I would like to offer these three types of housing in my program based on whether having a spouse or children to live with.\n",
    "    - The assignment of different types of housing should be decided separately. Only students who are applying for the same type of housing should be ranked.\n",
    "    - The output of this program should be a combination of Housing Type and Score (e.g., Single Students Housing, 15 points)\n",
    "2. Enrollment Status (Matriculated / Non-matriculated)\n",
    "    - Priority should be given to students who are enrolled in a degree program and presently seeking a degree. \n",
    "    - I will refer them as \"matriculated students\" in the rest of this assignment. \n",
    "3. Class Year \n",
    "    - I assume that the concept of \"Class Year\" is only applicable to matriculated students.\n",
    "    - Freshmen should be prioritized for being in an unfamiliar environment. \n",
    "    - Other students who are closer to graduation should have preference.\n",
    "    - Not calculated by credit completed, because the number of credits required differs from program to program. \n",
    "    - I assume that all programs are 4 years in length, and I will use a simple equation here to calculate the bonus point according to class year. \n",
    "    - If a number larger than 4 is entered, than no points will be added.\n",
    "4. Full time / Part time    \n",
    "    - Among matriculated students, those enrolled full-time should be given more priority. \n",
    "5. Academic Suspension\n",
    "    - If a student is on Academic Suspension, he or she is considered non-matriculated.\n",
    "    - Among all non-matriculated students, those who are on academic suspension due to a failure to maintain good academic standing should receive fewer points.\n",
    "6. Student source\n",
    "    - Out-of-province students and international students should be given priority. \n",
    "7. Age\n",
    "    - Senior citizens (60 or older) should have preference and receive special care. \n",
    "8. Disability (Physical or Mental)\n",
    "    - Students with disabilities should be able to choose housing that accommodates those issues.\n",
    "9. Academic Integrity\n",
    "    - Those who have never violated academic integrity should be given priority over those who have.  \n",
    "10. Conviction \n",
    "    - Those who have never been convicted of a crime should be given priority over those who have.\n",
    "\n"
   ]
  },
  {
   "cell_type": "markdown",
   "metadata": {
    "colab_type": "text",
    "id": "2xwKpb_FhWaN"
   },
   "source": [
    "***\n",
    "## Task 2: Design Your Algorithm\n"
   ]
  },
  {
   "cell_type": "markdown",
   "metadata": {},
   "source": [
    "- **Q1** *Do you have any legally dependent children living with you? (y/n)*\n",
    "    - `Yes` : Housing Type = Students with Children Housing\n",
    "    - `No` :   \n",
    "        **Q1.1** *Do you have a spouse living with you? (y/n)*\n",
    "        - `Yes` : Housing Type = Couples without Children Housing\n",
    "        - `No` : Housing Type = Single Student Housing\n",
    "---\n",
    "- **Q2** *Are you a matriculated student? (y/n)*\n",
    "    - `Yes` :   \n",
    "        **Q2.1** *What year are you? (1/2/3/4/...)* [This question involves equation]\n",
    "        - `1` : +4 points\n",
    "        - `2` : +1 points\n",
    "        - `3` : +2 points\n",
    "        - `4` : +3 points\n",
    "        - `>4` : pass\n",
    "        **Q2.2** *Do you study full-time? (y/n)*\n",
    "        - `Yes` : +4 points\n",
    "        - `No` : +2 points\n",
    "    - `No` :   \n",
    "        **Q2.3** *Are you on Academic Suspension? (y/n)*\n",
    "        - `Yes` : -4 points\n",
    "        - `No` : pass\n",
    "---\n",
    "- **Q3** *Are you an out-of-province student or international student? (y/n)*\n",
    "    - `Yes` : +1 points\n",
    "    - `No` : pass\n",
    "---\n",
    "- **Q4** *Are you a senior citizen? (y/n)*\n",
    "    - `Yes` : +5 points, *Special care* = True\n",
    "    - `No` : pass\n",
    "- **Q5** *Do you identify as a person with a visible or non-visible disability? (y/n)*\n",
    "    - `Yes` : +5 points, *Special care* = True\n",
    "    - `No` : pass\n",
    "---\n",
    "- **Q6** *Have you ever violated academic integrity? (y/n)*\n",
    "    - `Yes` : -4 points\n",
    "    - `No` : pass\n",
    "- **Q7** *Have you ever been convicted of a crime? (y/n)*\n",
    "    - `Yes` : -4 points\n",
    "    - `No` : pass"
   ]
  },
  {
   "cell_type": "markdown",
   "metadata": {
    "colab_type": "text",
    "id": "8z3RY6vziDhW"
   },
   "source": [
    "***\n",
    "## Task 3: Test Your Algorithm\n",
    "\n",
    "### Summary of findings"
   ]
  },
  {
   "cell_type": "markdown",
   "metadata": {},
   "source": [
    "*Replace with your answer for Task 3 (summary of findings)*\n",
    "\n",
    "I tested my algorithm on my roommate, my brother, and my cat. Testing on my cat made me realize that I didn't account for the unique needs of feline graduate students."
   ]
  },
  {
   "cell_type": "markdown",
   "metadata": {},
   "source": [
    "### Test Cases"
   ]
  },
  {
   "cell_type": "markdown",
   "metadata": {
    "colab_type": "text",
    "id": "8z3RY6vziDhW"
   },
   "source": [
    "\n",
    "|No.|Spouse|Child|Enrollment Status|Year|Source|Age|Disability|Other Issues|Housing Type Output|Score Output|\n",
    "|:-:|:-:|:-:|:-:|:-:|:-:|:-:|:-:|:-:|:-:|:-:|\n",
    "|1|✓|✓|Full-time Matriculated|1|Out-of-province|19|✗|None|Students with Children Housing|`9`|\n",
    "|2|✓|✗|Part-time Matriculated|3|Local|21|✓|Academic Dishonesty|Couples without Children|`5`|\n",
    "|3|✗|✓|Non-Matriculated|N/A|Local|20|✗|None|Students with Children|`0`|\n",
    "|4|✗|✗|Full-time Matriculated|4|International|22|✗|None|Single Students Housing|`8`|\n",
    "|5|✗|✗|Part-time Matriculated|1|Local|62|✗|None|Single Students Housing|`11`|\n",
    "|6|✗|✓|Full-time Matriculated|2|Local|20|✗|Conviction|Students with Children Housing|`1`|\n",
    "|7|✓|✗|Full-time Matriculated|4|Local|19|✓|None|Couples without Children|`12`|\n",
    "|8|✗|✗|Academic Suspension|N/A|Local|25|✗|None|Single Students Housing|`-4`|\n"
   ]
  },
  {
   "cell_type": "markdown",
   "metadata": {
    "colab_type": "text",
    "id": "HskXtXm8ez4T"
   },
   "source": [
    "***\n",
    "## Task 4: Write Code to Automate Your Algorithm\n",
    "\n",
    "Remember to first run the starter code and make sure you understand what's happening. Then modify the code to make it follow your algorithm"
   ]
  },
  {
   "cell_type": "code",
   "execution_count": 7,
   "metadata": {
    "colab": {
     "base_uri": "https://localhost:8080/",
     "height": 202
    },
    "colab_type": "code",
    "executionInfo": {
     "elapsed": 15662,
     "status": "ok",
     "timestamp": 1579630051191,
     "user": {
      "displayName": "Evan Peck",
      "photoUrl": "https://lh3.googleusercontent.com/a-/AAuE7mCxqtmZwdbuOZzmvr73NOsgNgzxnNCRqz5t-P4daA=s64",
      "userId": "04911074708321622228"
     },
     "user_tz": 300
    },
    "id": "0H9WjBtTevTn",
    "outputId": "b9417197-14e0-40e9-87a3-5cd69b9cbe43"
   },
   "outputs": [
    {
     "name": "stdout",
     "output_type": "stream",
     "text": [
      "------------------------------------\n",
      "      HOUSING SCORE CALCULATOR      \n",
      "------------------------------------\n",
      "\n"
     ]
    },
    {
     "name": "stdin",
     "output_type": "stream",
     "text": [
      "Do you have any legally-dependent children living with you? (y/n) \n",
      ">  n\n",
      "Do you have a spouse living with you? (y/n) \n",
      ">  y\n",
      "Are you a matriculated student? (y/n) \n",
      ">  n\n",
      "Are you on Academic Suspension? (y/n) \n",
      ">  y\n",
      "Are you an out-of-province student or international student? (y/n) \n",
      ">  n\n",
      "Are you a senior citizen? (y/n) \n",
      ">  y\n",
      "Do you identify as a person with a visible or non-visible disability? (y/n) \n",
      ">  n\n",
      "Have you ever violated Academic Integrity? (y/n) \n",
      ">  y\n",
      "Have you ever been convicted of a crime? (y/n) \n",
      ">  n\n"
     ]
    },
    {
     "name": "stdout",
     "output_type": "stream",
     "text": [
      "\n",
      "---------------RESULT---------------\n",
      "Housing Type: Couples without Children\n",
      "Housing Points Score: -3\n",
      "------------------------------------\n",
      "*Please contact us as soon as possible so we can best meet your needs.\n"
     ]
    }
   ],
   "source": [
    "# Modify with your answer for Task 4\n",
    "\n",
    "# Created by: Evan Peck (Bucknell University)\n",
    "# Modified by: Karyn Moffatt (McGill University)\n",
    "# Modified by: Kerry Liu (McGill University)\n",
    "# - Contact: karyn.moffatt@mcgill.ca\n",
    "# - Contact: xin.liu6@mail.mcgill.ca\n",
    "# - Last Modified: Feb 20, 2021\n",
    "\n",
    "# Keeps track of the point total during questions\n",
    "score = 0\n",
    "\n",
    "# A header to start the program\n",
    "print(\"------------------------------------\")\n",
    "print(\"      HOUSING SCORE CALCULATOR      \")\n",
    "print(\"------------------------------------\")\n",
    "print()\n",
    "\n",
    "# I am using while loop with \"break\" and \"continue\" for every factor.\n",
    "# so that users don't have to start over if there's a typo in the middle.\n",
    "# I am trying to be \"user-centered\", although it makes my program harder to read. \n",
    "\n",
    "# Deciding Housing Type Depending on Marriage or Parenthood\n",
    "while True:\n",
    "    q1 = input(\n",
    "        'Do you have any legally-dependent children living with you? (y/n) \\n> ')\n",
    "    # Students with children regardless of marriage status \n",
    "    # should apply for “Students with Children Housing”.\n",
    "    if q1.lower() == 'y':\n",
    "        housing_type = 'Students with Children'\n",
    "    \n",
    "    # For students without children:  \n",
    "    elif q1.lower() == 'n':\n",
    "        q1_1 = input('Do you have a spouse living with you? (y/n) \\n> ')\n",
    "        # married students will be considered “Couples without Children Housing”.\n",
    "        if q1_1.lower() == 'y':\n",
    "            housing_type = 'Couples without Children'\n",
    "        # single students will be considered “Single Students Housing”, \n",
    "        elif q1_1.lower() == 'n':\n",
    "            housing_type = 'Single Student Housing'\n",
    "        else:\n",
    "            print(\"Please enter 'y' or 'n'.\")\n",
    "            continue\n",
    "    else:\n",
    "        print(\"Please enter 'y' or 'n'.\")\n",
    "        continue\n",
    "    break\n",
    "\n",
    "# Enrollment Status (Matriculated / Non-matriculated)\n",
    "while True:\n",
    "    q2 = input('Are you a matriculated student? (y/n) \\n> ')\n",
    "    if q2.lower() == 'y':\n",
    "        # class year (only applies for Matriculated)\n",
    "        q2_1 = input('What year are you? (1/2/3/4/...) \\n> ')\n",
    "        # used \"try\" to test whether the input is a number \n",
    "        try:\n",
    "            q2_1 = int(q2_1)\n",
    "        except:\n",
    "            print(\"Please enter a number.\")\n",
    "            continue\n",
    "        else:\n",
    "            if q2_1 == 1:\n",
    "                score += 4\n",
    "            elif q2_1 in [2, 3, 4]:\n",
    "                score += q2_1 - 1\n",
    "        # full time / part time (only applies for Matriculated)\n",
    "        q2_2 = input('Do you study full-time? (y/n) \\n> ')\n",
    "        if q2_2.lower() == 'y':\n",
    "            score += 4\n",
    "        elif q2_2.lower() == 'n':\n",
    "            score += 2\n",
    "        else:\n",
    "            print(\"Please enter 'y' or 'n'.\")\n",
    "            continue\n",
    "\n",
    "    elif q2.lower() == 'n':\n",
    "        # Academic Suspension (only applies for Non-matriculated)\n",
    "        q2_3 = input('Are you on Academic Suspension? (y/n) \\n> ')\n",
    "        if q2_3.lower() == 'y':\n",
    "            score -= 4\n",
    "        elif q2_3.lower() == 'n':\n",
    "            pass\n",
    "        else:\n",
    "            print(\"Please enter 'y' or 'n'.\")\n",
    "            continue\n",
    "    else:\n",
    "        print(\"Please enter 'y' or 'n'.\")\n",
    "        continue\n",
    "    break\n",
    "\n",
    "# Student Source\n",
    "while True:\n",
    "    q3 = input(\n",
    "        'Are you an out-of-province student or international student? (y/n) \\n> ')\n",
    "    if q3.lower() == 'y':\n",
    "        score += 1\n",
    "    elif q3.lower() == 'n':\n",
    "        pass\n",
    "    else:\n",
    "        print(\"Please answer 'y' or 'n'.\")\n",
    "        continue\n",
    "    break\n",
    "\n",
    "\n",
    "# for people who might need special care\n",
    "# a note will appear at the end\n",
    "special_care = False\n",
    "\n",
    "# Age\n",
    "while True:\n",
    "    q4 = input('Are you a senior citizen? (y/n) \\n> ')\n",
    "    if q4.lower() == 'y':\n",
    "        score += 5\n",
    "        special_care = True\n",
    "    elif q4.lower() == 'n':\n",
    "        pass\n",
    "    else:\n",
    "        print(\"Please enter 'y' or 'n'.\")\n",
    "        continue\n",
    "    break\n",
    "    \n",
    "# Disabilities\n",
    "while True:\n",
    "    q5 = input(\n",
    "        'Do you identify as a person with a visible or non-visible disability? (y/n) \\n> ')\n",
    "    if q5.lower() == 'y':\n",
    "        score += 5\n",
    "        special_care = True\n",
    "    elif q5.lower() == 'n':\n",
    "        pass\n",
    "    else:\n",
    "        print(\"Please enter 'y' or 'n'.\")\n",
    "        continue\n",
    "    break\n",
    "\n",
    "# Academic Integrity\n",
    "while True:\n",
    "    q6 = input('Have you ever violated Academic Integrity? (y/n) \\n> ')\n",
    "    if q6.lower() == 'y':\n",
    "        score -= 4\n",
    "    elif q6.lower() == 'n':\n",
    "        pass\n",
    "    else:\n",
    "        print(\"Please answer 'y' or 'n'.\")\n",
    "        continue\n",
    "    break\n",
    "\n",
    "# Conviction\n",
    "while True:\n",
    "    q7 = input('Have you ever been convicted of a crime? (y/n) \\n> ')\n",
    "    if q7.lower() == 'y':\n",
    "        score -= 4\n",
    "    elif q7.lower() == 'n':\n",
    "        pass\n",
    "    else:\n",
    "        print(\"Please enter 'y' or 'n'.\")\n",
    "        continue\n",
    "    break\n",
    "\n",
    "\n",
    "# At the end of the program, tell the user their housing type and score\n",
    "print()\n",
    "print(\"---------------RESULT---------------\")\n",
    "print('Housing Type:', housing_type)\n",
    "print('Housing Points Score:', score)\n",
    "print(\"------------------------------------\")\n",
    "\n",
    "# a note for senior citizens and those with disabilities\n",
    "if special_care:\n",
    "    print('*Please contact us as soon as possible so we can best meet your needs.')\n"
   ]
  },
  {
   "cell_type": "markdown",
   "metadata": {
    "colab_type": "text",
    "id": "VimdCdQhmuoY"
   },
   "source": [
    "***\n",
    "## Task 5: Test Your Assumptions"
   ]
  },
  {
   "cell_type": "markdown",
   "metadata": {},
   "source": [
    "*Replace with your answer for Task 5 (two paragraph reflection on your algorithm's stengths and weaknesses)*\n",
    "\n",
    "When considering whether to give priority to married students and students with children, I did some research and realized that many universities offer different types of housing according to marriage and parenthood. Since a single student is not eligible for “Students with Children Housing” in the first place, there is no point to rank them together. Students eligible for different types of housing should be ranked separately. I will first ask if a student has children to live with. Students with children regardless of marriage status should apply for “Students with Children Housing”. For students without children, single students will be considered “Single Students Housing” while those with a spouse should apply for “Couples without Children Housing”. If the proportion between different types of housing is similar to the proportion between different types of students, then it can be considered fair. \n",
    "\n",
    "Besides, to simplify the problem, I assumed that the length of each program is 4 years. In many universities, undergraduate housing is sequentially allocated to students in their senior, junior, sophomore, and freshman year. For other universities like McGill and UBC, incoming freshmen are guaranteed student housing. Every student will go through year 1 to year 4, and somewhen they will be prioritized. In this sense, any practice is fair, because they will receive the same points all together over the four years. Still, I choose to keep a balance between these two practices, by giving the most priority to freshmen, and then those closer to graduation. There are circumstances when a student is on year 5, maybe due to reasons like academic suspension. In my program, input larger than 4 gets no score, because the principle remains that every student gets the same total points over their undergraduate studies, which is the fairest to me.\n",
    "\n",
    "I recognized three weaknesses for my program. First, there are often more than three types of student housing in real life scenarios. For example, single students can choose from studio, 2-bedroom apartment, town house, etc. The housing types differ from university to university. Second, some people might not feel comfortable to answer some of the questions like those concerning age and disabilities issues. Due to privacy reasons, an option of “not willing to provide answers” should be given. However, there is a conflict that if we do not know their difficulties, we cannot help them and given them extra points. Third, I imagine the major of students would have the same answer for all the questions except class year and student source. That means that most students’ score will fall into the range of 5 to 9. If the threshold falls into the same range, then this program is not enough to decide. Assume that there is 15% percent of students for each score from 5 to 9, which is a lot of students, then probably, we need to further draw lots to decide who can live in student housing. \n"
   ]
  },
  {
   "cell_type": "markdown",
   "metadata": {},
   "source": [
    "***\n",
    "\n",
    "Don't forget to rename the file with your name. Upload your finished assignment to MyCourses - Assignment 1"
   ]
  }
 ],
 "metadata": {
  "colab": {
   "collapsed_sections": [],
   "name": "conditionals_report_demo.ipynb",
   "provenance": []
  },
  "kernelspec": {
   "display_name": "Python 3",
   "language": "python",
   "name": "python3"
  },
  "language_info": {
   "codemirror_mode": {
    "name": "ipython",
    "version": 3
   },
   "file_extension": ".py",
   "mimetype": "text/x-python",
   "name": "python",
   "nbconvert_exporter": "python",
   "pygments_lexer": "ipython3",
   "version": "3.9.1"
  }
 },
 "nbformat": 4,
 "nbformat_minor": 4
}
